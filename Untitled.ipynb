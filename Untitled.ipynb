{
 "cells": [
  {
   "cell_type": "code",
   "execution_count": 18,
   "id": "8e09df58-47b9-4a4b-a3ea-c2e80b500b60",
   "metadata": {},
   "outputs": [],
   "source": [
    "inp=input()"
   ]
  },
  {
   "cell_type": "markdown",
   "id": "f15f7f21-644b-4648-b6d8-80b37ae69700",
   "metadata": {},
   "source": [
    "### imports"
   ]
  },
  {
   "cell_type": "code",
   "execution_count": 19,
   "id": "f73d19c5-02c9-4203-a013-1915c7444d6f",
   "metadata": {},
   "outputs": [],
   "source": [
    "from transformers import AutoTokenizer, AutoModelForTokenClassification\n",
    "from transformers import pipeline\n",
    "import cv2\n",
    "import numpy as np\n",
    "\n",
    "import tensorflow_hub as hub\n",
    "import tensorflow-cpu as tf\n",
    "from matplotlib import pyplot as plt\n",
    "\n",
    "from selenium import webdriver\n",
    "from selenium.webdriver.common.keys import Keys\n",
    "from selenium.webdriver.support.ui import Select\n",
    "import random\n",
    "import time\n",
    "import requests\n",
    "import os"
   ]
  },
  {
   "cell_type": "code",
   "execution_count": 20,
   "id": "1b74d1a8-cecc-43df-854c-a1133b7bcecd",
   "metadata": {},
   "outputs": [
    {
     "name": "stderr",
     "output_type": "stream",
     "text": [
      "Asking to truncate to max_length but no maximum length is provided and the model has no predefined maximum length. Default to no truncation.\n"
     ]
    }
   ],
   "source": [
    "browser = webdriver.Chrome(fr\"{os.getcwd()}/chromedriver.exe\")\n",
    "\n",
    "clss = pipeline(\"zero-shot-classification\", model=\"typeform/mobilebert-uncased-mnli\", tokenizer=\"typeform/mobilebert-uncased-mnli\")\n",
    "js=clss(inp, [\"angry\",\"happy\",\"funny\",\"free\",\"relax\",\"positive\",\"classic\",\"modern\"])\n",
    "style=\"\"\n",
    "for l, s in zip(js[\"labels\"], js['scores']):\n",
    "    if s>0.2: style=style+l+\", \"\n",
    "    else:\n",
    "        style=style[:-2]+\" art\"\n",
    "        break\n",
    "browser.get(f\"https://www.google.com/search?q={style}&tbm=isch\")\n",
    "time.sleep(2)\n",
    "browser.find_element_by_xpath('//a[@jsname=\"sTFXNd\"]').click()\n",
    "time.sleep(6)\n",
    "with open(\"style.png\", \"wb\")as f:\n",
    "    f.write(requests.get(browser.find_elements_by_xpath('//img[@jsname=\"HiaYvf\"]')[0].get_attribute(\"src\")).content)"
   ]
  },
  {
   "cell_type": "code",
   "execution_count": 21,
   "id": "3ece52ec-7a41-4f96-8739-447b9432b3b5",
   "metadata": {},
   "outputs": [],
   "source": [
    "tokenizer = AutoTokenizer.from_pretrained(\"mrm8488/mobilebert-finetuned-pos\")\n",
    "model = AutoModelForTokenClassification.from_pretrained(\"mrm8488/mobilebert-finetuned-pos\")\n",
    "nlp = pipeline(\"ner\", model=model, tokenizer=tokenizer)\n",
    "\n",
    "model = hub.load('https://tfhub.dev/google/magenta/arbitrary-image-stylization-v1-256/2')"
   ]
  },
  {
   "cell_type": "code",
   "execution_count": 22,
   "id": "d590a6a2-5da7-419f-a551-9dbb3aaabe70",
   "metadata": {},
   "outputs": [
    {
     "name": "stderr",
     "output_type": "stream",
     "text": [
      "Asking to truncate to max_length but no maximum length is provided and the model has no predefined maximum length. Default to no truncation.\n",
      "C:\\Users\\NTutkun\\AppData\\Roaming\\Python\\Python38\\site-packages\\transformers\\pipelines\\token_classification.py:179: RuntimeWarning: overflow encountered in exp\n",
      "  score = np.exp(entities) / np.exp(entities).sum(-1, keepdims=True)\n",
      "C:\\Users\\NTutkun\\AppData\\Roaming\\Python\\Python38\\site-packages\\transformers\\pipelines\\token_classification.py:179: RuntimeWarning: invalid value encountered in true_divide\n",
      "  score = np.exp(entities) / np.exp(entities).sum(-1, keepdims=True)\n"
     ]
    }
   ],
   "source": [
    "inp=nlp(inp)"
   ]
  },
  {
   "cell_type": "markdown",
   "id": "1f9fd30c-cb48-415a-8f2d-4095f5b6a613",
   "metadata": {},
   "source": [
    "### image dwonland"
   ]
  },
  {
   "cell_type": "code",
   "execution_count": 23,
   "id": "6069644b-9947-43b6-9ac6-eef632958d31",
   "metadata": {},
   "outputs": [],
   "source": [
    "no=0\n",
    "for ip in inp:\n",
    "    if ip[\"entity\"]==\"NN\": \n",
    "        no+=1\n",
    "        klm=ip[\"word\"]\n",
    "        browser.get(f\"https://www.google.com/search?q={klm} transparent&tbm=isch\")\n",
    "        time.sleep(2)\n",
    "        browser.find_element_by_xpath('//a[@jsname=\"sTFXNd\"]').click()\n",
    "        time.sleep(6)\n",
    "        with open(([\"test\", \"bg\"][no-1]+\".png\"), \"wb\")as f:\n",
    "            f.write(requests.get(browser.find_elements_by_xpath('//img[@jsname=\"HiaYvf\"]')[0].get_attribute(\"src\")).content)\n",
    "    if no>1: break\n",
    "browser.close()"
   ]
  },
  {
   "cell_type": "markdown",
   "id": "7276ee42-c2ce-471a-85dc-a566fe6f966f",
   "metadata": {},
   "source": [
    "### image edit"
   ]
  },
  {
   "cell_type": "code",
   "execution_count": 24,
   "id": "183c5e2d-c864-4df9-a406-14afdea4ebc2",
   "metadata": {},
   "outputs": [],
   "source": [
    "img = cv2.imread('test.png')\n",
    "gray = cv2.cvtColor(img, cv2.COLOR_BGR2GRAY)\n",
    "mask = cv2.threshold(gray, 250, 255, cv2.THRESH_BINARY)[1]\n",
    "mask = 255 - mask\n",
    "kernel = np.ones((3,3), np.uint8)\n",
    "mask = cv2.morphologyEx(mask, cv2.MORPH_OPEN, kernel)\n",
    "mask = cv2.morphologyEx(mask, cv2.MORPH_CLOSE, kernel)\n",
    "mask = cv2.GaussianBlur(mask, (0,0), sigmaX=2, sigmaY=2, borderType = cv2.BORDER_DEFAULT)\n",
    "mask = (2*(mask.astype(np.float32))-255.0).clip(0,255).astype(np.uint8)\n",
    "result = img.copy()\n",
    "result = cv2.cvtColor(result, cv2.COLOR_BGR2BGRA)\n",
    "result[:, :, 3] = mask\n",
    "cv2.imwrite('rebg.png', result)\n",
    "\n",
    "from PIL import Image\n",
    "\n",
    "background = Image.open(\"bg.png\")\n",
    "foreground = Image.open(\"rebg.png\")\n",
    "\n",
    "background.paste(foreground, (0, 0), foreground)\n",
    "background.save(\"rebg.png\")"
   ]
  },
  {
   "cell_type": "markdown",
   "id": "29ca920f-fc8a-45a6-a9e6-de0056c71202",
   "metadata": {},
   "source": [
    "### image style transfer"
   ]
  },
  {
   "cell_type": "code",
   "execution_count": 25,
   "id": "376bbf14-1295-4496-a868-bfb9fa6af591",
   "metadata": {},
   "outputs": [
    {
     "data": {
      "text/plain": [
       "True"
      ]
     },
     "execution_count": 25,
     "metadata": {},
     "output_type": "execute_result"
    }
   ],
   "source": [
    "def load_image(img_path):\n",
    "    img = tf.io.read_file(img_path)\n",
    "    img = tf.image.decode_image(img, channels=3)\n",
    "    img = tf.image.convert_image_dtype(img, tf.float32)\n",
    "    img = img[tf.newaxis, :]\n",
    "    return img\n",
    "\n",
    "content_image = load_image('rebg.png')\n",
    "style_image = load_image('style.png')\n",
    "\n",
    "stylized_image = model(tf.constant(content_image), tf.constant(style_image))[0]\n",
    "cv2.imwrite('rebg.png', cv2.cvtColor(np.squeeze(stylized_image)*255, cv2.COLOR_BGR2RGB))"
   ]
  }
 ],
 "metadata": {
  "kernelspec": {
   "display_name": "Python 3",
   "language": "python",
   "name": "python3"
  },
  "language_info": {
   "codemirror_mode": {
    "name": "ipython",
    "version": 3
   },
   "file_extension": ".py",
   "mimetype": "text/x-python",
   "name": "python",
   "nbconvert_exporter": "python",
   "pygments_lexer": "ipython3",
   "version": "3.8.8"
  }
 },
 "nbformat": 4,
 "nbformat_minor": 5
}
